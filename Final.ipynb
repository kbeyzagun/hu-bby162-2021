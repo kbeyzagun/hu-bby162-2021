{
  "nbformat": 4,
  "nbformat_minor": 0,
  "metadata": {
    "colab": {
      "name": "Final.ipynb",
      "provenance": [],
      "mount_file_id": "1lSSEKgMjRG0wjVjKCV8oRiYm-CefNFek",
      "authorship_tag": "ABX9TyMXN/UDLLvCqWrY86iv2R94",
      "include_colab_link": true
    },
    "kernelspec": {
      "name": "python3",
      "display_name": "Python 3"
    },
    "language_info": {
      "name": "python"
    }
  },
  "cells": [
    {
      "cell_type": "markdown",
      "metadata": {
        "id": "view-in-github",
        "colab_type": "text"
      },
      "source": [
        "<a href=\"https://colab.research.google.com/github/kbeyzagun/hu-bby162-2021/blob/main/Final.ipynb\" target=\"_parent\"><img src=\"https://colab.research.google.com/assets/colab-badge.svg\" alt=\"Open In Colab\"/></a>"
      ]
    },
    {
      "cell_type": "markdown",
      "metadata": {
        "id": "5hk-uM848NFv"
      },
      "source": [
        "FİNAL PROJESİ.\n"
      ]
    },
    {
      "cell_type": "code",
      "metadata": {
        "colab": {
          "base_uri": "https://localhost:8080/",
          "height": 599
        },
        "id": "wUAp-cGX8Xj-",
        "outputId": "6fc4cef2-df65-476d-f602-cfebf69da7c7"
      },
      "source": [
        "#Kütüphane Otomasyonu\n",
        "dosya = \"/content/drive/MyDrive/Colab Notebooks/hu bby162-2021/final.txt\"\n",
        "\n",
        "print(\"::KÜTÜPHANE OTOMASYONUNA HOŞGELDİNİZ::\")\n",
        "\n",
        "def eser_listele():\n",
        "  acilanDosya = open(dosya, \"r\") \n",
        "  for line in acilanDosya.readlines():\n",
        "     print(line)\n",
        "     acilanDosya.close()\n",
        "\n",
        "eser_listele()\n",
        "\n",
        "acilanDosya = open(dosya, 'a') \n",
        "\n",
        "def eser_ekle():\n",
        "  eserAdi = input(\"Eser adını girin: \")\n",
        "  yazarAdi = input(\"Yazar adını girin: \")\n",
        "  yayinevi = input(\"Yayınevini girin: \")\n",
        "  basımTarihi = input(\"Basım yılını girin: \")\n",
        "  ISBN = input(\"ISBN girin: \")\n",
        "\n",
        "  f.write(eserAdi +\" , \" + yazarAdi +\" , \" + yayinevi +\" , \" + basımTarihi +\" , \" + ISBN)\n",
        "eser_ekle()\n",
        "acilanDosya.close()"
      ],
      "execution_count": 86,
      "outputs": [
        {
          "output_type": "stream",
          "text": [
            "::KÜTÜPHANE OTOMASYONUNA HOŞGELDİNİZ::\n",
            "Kendini Keşfetmeye Zorluklarla Başa Çıkmaya Var Mısın,Doğan Cüceloğlu,Kronik,2021,9786057635839\n",
            "\n",
            "Bilinmeyen Bir Kadının Mektubu, Stefan Zweig, İş Bankası Kültür Yayınları,2002,9786053606604\n",
            "\n",
            "Ay Işığı Sokağı, Stefan Zweig, İş Bankası Kültür Yayınları, 2005,9786052950722\n",
            "\n",
            "Beyaz Gemi,Cengiz Aytmatov, Ötüken Yayınları,2004,9789754370430\n",
            "\n",
            "Şık,Hüseyin Rahmi Gürpınar,Mavi Çatı Yayınları, 2017,9786052940785\n",
            "Eser adını girin: Şık \n",
            "Yazar adını girin: Hüseyin Rahmi Gürpınar\n",
            "Yayınevini girin: Mavi Çatı Yayınları \n",
            "Basım yılını girin: 2017 \n",
            "ISBN girin: 9786052940785\n"
          ],
          "name": "stdout"
        },
        {
          "output_type": "error",
          "ename": "UnsupportedOperation",
          "evalue": "ignored",
          "traceback": [
            "\u001b[0;31m---------------------------------------------------------------------------\u001b[0m",
            "\u001b[0;31mUnsupportedOperation\u001b[0m                      Traceback (most recent call last)",
            "\u001b[0;32m<ipython-input-86-88fb449e4540>\u001b[0m in \u001b[0;36m<module>\u001b[0;34m()\u001b[0m\n\u001b[1;32m     22\u001b[0m \u001b[0;34m\u001b[0m\u001b[0m\n\u001b[1;32m     23\u001b[0m   \u001b[0mf\u001b[0m\u001b[0;34m.\u001b[0m\u001b[0mwrite\u001b[0m\u001b[0;34m(\u001b[0m\u001b[0meserAdi\u001b[0m \u001b[0;34m+\u001b[0m\u001b[0;34m\" , \"\u001b[0m \u001b[0;34m+\u001b[0m \u001b[0myazarAdi\u001b[0m \u001b[0;34m+\u001b[0m\u001b[0;34m\" , \"\u001b[0m \u001b[0;34m+\u001b[0m \u001b[0myayinevi\u001b[0m \u001b[0;34m+\u001b[0m\u001b[0;34m\" , \"\u001b[0m \u001b[0;34m+\u001b[0m \u001b[0mbasımTarihi\u001b[0m \u001b[0;34m+\u001b[0m\u001b[0;34m\" , \"\u001b[0m \u001b[0;34m+\u001b[0m \u001b[0mISBN\u001b[0m\u001b[0;34m)\u001b[0m\u001b[0;34m\u001b[0m\u001b[0;34m\u001b[0m\u001b[0m\n\u001b[0;32m---> 24\u001b[0;31m \u001b[0meser_ekle\u001b[0m\u001b[0;34m(\u001b[0m\u001b[0;34m)\u001b[0m\u001b[0;34m\u001b[0m\u001b[0;34m\u001b[0m\u001b[0m\n\u001b[0m\u001b[1;32m     25\u001b[0m \u001b[0macilanDosya\u001b[0m\u001b[0;34m.\u001b[0m\u001b[0mclose\u001b[0m\u001b[0;34m(\u001b[0m\u001b[0;34m)\u001b[0m\u001b[0;34m\u001b[0m\u001b[0;34m\u001b[0m\u001b[0m\n",
            "\u001b[0;32m<ipython-input-86-88fb449e4540>\u001b[0m in \u001b[0;36meser_ekle\u001b[0;34m()\u001b[0m\n\u001b[1;32m     21\u001b[0m   \u001b[0mISBN\u001b[0m \u001b[0;34m=\u001b[0m \u001b[0minput\u001b[0m\u001b[0;34m(\u001b[0m\u001b[0;34m\"ISBN girin: \"\u001b[0m\u001b[0;34m)\u001b[0m\u001b[0;34m\u001b[0m\u001b[0;34m\u001b[0m\u001b[0m\n\u001b[1;32m     22\u001b[0m \u001b[0;34m\u001b[0m\u001b[0m\n\u001b[0;32m---> 23\u001b[0;31m   \u001b[0mf\u001b[0m\u001b[0;34m.\u001b[0m\u001b[0mwrite\u001b[0m\u001b[0;34m(\u001b[0m\u001b[0meserAdi\u001b[0m \u001b[0;34m+\u001b[0m\u001b[0;34m\" , \"\u001b[0m \u001b[0;34m+\u001b[0m \u001b[0myazarAdi\u001b[0m \u001b[0;34m+\u001b[0m\u001b[0;34m\" , \"\u001b[0m \u001b[0;34m+\u001b[0m \u001b[0myayinevi\u001b[0m \u001b[0;34m+\u001b[0m\u001b[0;34m\" , \"\u001b[0m \u001b[0;34m+\u001b[0m \u001b[0mbasımTarihi\u001b[0m \u001b[0;34m+\u001b[0m\u001b[0;34m\" , \"\u001b[0m \u001b[0;34m+\u001b[0m \u001b[0mISBN\u001b[0m\u001b[0;34m)\u001b[0m\u001b[0;34m\u001b[0m\u001b[0;34m\u001b[0m\u001b[0m\n\u001b[0m\u001b[1;32m     24\u001b[0m \u001b[0meser_ekle\u001b[0m\u001b[0;34m(\u001b[0m\u001b[0;34m)\u001b[0m\u001b[0;34m\u001b[0m\u001b[0;34m\u001b[0m\u001b[0m\n\u001b[1;32m     25\u001b[0m \u001b[0macilanDosya\u001b[0m\u001b[0;34m.\u001b[0m\u001b[0mclose\u001b[0m\u001b[0;34m(\u001b[0m\u001b[0;34m)\u001b[0m\u001b[0;34m\u001b[0m\u001b[0;34m\u001b[0m\u001b[0m\n",
            "\u001b[0;31mUnsupportedOperation\u001b[0m: not writable"
          ]
        }
      ]
    }
  ]
}