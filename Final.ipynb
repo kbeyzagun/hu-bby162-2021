{
  "nbformat": 4,
  "nbformat_minor": 0,
  "metadata": {
    "colab": {
      "name": "Final.ipynb",
      "provenance": [],
      "mount_file_id": "1lSSEKgMjRG0wjVjKCV8oRiYm-CefNFek",
      "authorship_tag": "ABX9TyNfb1G5JNN9I4+6V0NfLqJx",
      "include_colab_link": true
    },
    "kernelspec": {
      "name": "python3",
      "display_name": "Python 3"
    },
    "language_info": {
      "name": "python"
    }
  },
  "cells": [
    {
      "cell_type": "markdown",
      "metadata": {
        "id": "view-in-github",
        "colab_type": "text"
      },
      "source": [
        "<a href=\"https://colab.research.google.com/github/kbeyzagun/hu-bby162-2021/blob/main/Final.ipynb\" target=\"_parent\"><img src=\"https://colab.research.google.com/assets/colab-badge.svg\" alt=\"Open In Colab\"/></a>"
      ]
    },
    {
      "cell_type": "markdown",
      "metadata": {
        "id": "5hk-uM848NFv"
      },
      "source": [
        "FİNAL PROJESİ.\n"
      ]
    },
    {
      "cell_type": "code",
      "metadata": {
        "colab": {
          "base_uri": "https://localhost:8080/"
        },
        "id": "wUAp-cGX8Xj-",
        "outputId": "a36823d5-a706-4588-d4b2-e326e9238d10"
      },
      "source": [
        "#Kütüphane Otomasyonu\n",
        "dosya = \"/content/drive/MyDrive/Colab Notebooks/hu bby162-2021/final.txt\"\n",
        "\n",
        "print(\"::KÜTÜPHANE OTOMASYONUNA HOŞGELDİNİZ::\")\n",
        "\n",
        "def eserListele():\n",
        "  f = open(dosya, 'r')\n",
        "  for line in f.readlines():\n",
        "    print(line)\n",
        "  f.close()\n",
        "\n",
        "def eserKaydet():\n",
        "  eserAdi = input(\"Eser adını girin: \")\n",
        "  yazarAdi = input(\"Yazar adını girin: \")\n",
        "  yayinEvi = input(\"Yayın evi bilgisini girin: \")\n",
        "  basımTarihi = input(\"Basım yılını girin: \")\n",
        "  ISBN = input(\"ISBN girin: \")\n",
        "  f = open(dosya, 'a' ) \n",
        "  f.write(eserAdi + \" , \" + yazarAdi + \" , \" + yayinEvi + \" , \"  + basımTarihi + \",\"  + ISBN + '\\n')\n",
        "  f.close()\n",
        "  print(\"Kayıt işleminiz başarıyla gerçekleşmiştir.\")\n",
        "\n",
        "def menu():\n",
        "\n",
        "    işlemSec=[eserListele, eserKaydet]\n",
        "    print(\"İşlem Seçiniz: 1)Listele / 2)Kaydet\")\n",
        "    seciminiz = int(input(\"Lütfen Yapmak İstediğiniz İşlem Seçiniz (1-2):\"))\n",
        "\n",
        "\n",
        "if girilen_islem == [1]:\n",
        "  print(\"Eserler listelendi\")\n",
        "elif girilen_islem == [2]:\n",
        "  print(\"Yeni eser kaydet\")\n",
        "\n",
        "menu()\n"
      ],
      "execution_count": 125,
      "outputs": [
        {
          "output_type": "stream",
          "text": [
            "::KÜTÜPHANE OTOMASYONUNA HOŞGELDİNİZ::\n",
            "İşlem Seçiniz: 1)Listele / 2)Kaydet\n",
            "Lütfen Yapmak İstediğiniz İşlem Seçiniz (1-2):1\n"
          ],
          "name": "stdout"
        }
      ]
    }
  ]
}