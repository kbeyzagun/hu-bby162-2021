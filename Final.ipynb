{
  "nbformat": 4,
  "nbformat_minor": 0,
  "metadata": {
    "colab": {
      "name": "Final.ipynb ",
      "provenance": [],
      "mount_file_id": "1AiLcRcNy-4cfz2y87D8_WEC6Hehm5ci5",
      "authorship_tag": "ABX9TyNVDW3JCyV66RWbwKTwQ0I8",
      "include_colab_link": true
    },
    "kernelspec": {
      "name": "python3",
      "display_name": "Python 3"
    },
    "language_info": {
      "name": "python"
    }
  },
  "cells": [
    {
      "cell_type": "markdown",
      "metadata": {
        "id": "view-in-github",
        "colab_type": "text"
      },
      "source": [
        "<a href=\"https://colab.research.google.com/github/kbeyzagun/hu-bby162-2021/blob/main/Final.ipynb\" target=\"_parent\"><img src=\"https://colab.research.google.com/assets/colab-badge.svg\" alt=\"Open In Colab\"/></a>"
      ]
    },
    {
      "cell_type": "markdown",
      "metadata": {
        "id": "5hk-uM848NFv"
      },
      "source": [
        "FİNAL PROJESİ.\n"
      ]
    },
    {
      "cell_type": "code",
      "metadata": {
        "colab": {
          "base_uri": "https://localhost:8080/"
        },
        "id": "wUAp-cGX8Xj-",
        "outputId": "98eff3b9-4a76-409b-e14b-189e9133e8f6"
      },
      "source": [
        "#Kütüphane Otomasyonu\n",
        "dosya = \"/content/drive/MyDrive/Colab Notebooks/hu bby162-2021/final.txt\"\n",
        "\n",
        "print(\"::KÜTÜPHANE OTOMASYONUNA HOŞGELDİNİZ::\")\n",
        "\n",
        "def eserListele():\n",
        "  f = open(dosya, 'r')\n",
        "  for line in f.readlines():\n",
        "    print(line)\n",
        "  f.close()\n",
        "\n",
        "def eserKaydet():\n",
        "  eserAdi = input(\"Eser adını girin: \")\n",
        "  yazarAdi = input(\"Yazar adını girin: \")\n",
        "  yayinEvi = input(\"Yayın evi bilgisini girin: \")\n",
        "  basımTarihi = input(\"Basım yılını girin: \")\n",
        "  ISBN = input(\"ISBN girin: \")\n",
        "  f = open(dosya, 'a' ) \n",
        "  f.write(eserAdi + \" / \" + yazarAdi + \" / \" + yayinEvi + \" / \"  + basımTarihi + \"/\"  + ISBN + '\\n')\n",
        "  f.close()\n",
        "  print(\"Kayıt işleminiz başarıyla gerçekleşmiştir.\")\n",
        "\n",
        "islemSec = [\"eserListele\" , \"eserKaydet\"]\n",
        "while True:\n",
        "        print(\"1- Eserleri Listele\")\n",
        "        print(\"2- Eser Kaydet\")\n",
        "        seciminiz=int(input(\"Lütfen Yapmak İstediğiniz İşlem Seçiniz (1-2):\"))\n",
        "        if seciminiz==1:\n",
        "          print(\"Eserler listelendi\")\n",
        "          eserListele()\n",
        "        elif seciminiz==2:\n",
        "          print(\"Yeni eser kaydedin\")\n",
        "          eserKaydet()\n",
        "          break"
      ],
      "execution_count": 75,
      "outputs": [
        {
          "output_type": "stream",
          "text": [
            "::KÜTÜPHANE OTOMASYONUNA HOŞGELDİNİZ::\n",
            "1- Eserleri Listele\n",
            "2- Eser Kaydet\n",
            "Lütfen Yapmak İstediğiniz İşlem Seçiniz (1-2):1\n",
            "Eserler listelendi\n",
            "Tepenin Laneti, John Verdon, Koridor Yayıncılık, 2021, 9786257781282\n",
            "\n",
            "Kırmızı Pazartesi, Gabriel Garcia Marquez, Can Yayınları, 2005,9789750721571\n",
            "\n",
            "Ay Işığı Sokağı ,Stefan Zweig, İş Bankası Kültür Yayınları, 2000, 9786052950722\n",
            "\n",
            "Anna Karenina ,Lev Nikolayeviç Tolstoy, Anonim Yayıncılık, 2001,9799944353181\n",
            "\n",
            "İnce Memed - 1, Yaşar Kemal, Yapı Kredi Yayınları, 2006, 9789750807145\n",
            "\n",
            "Sahnenin Dışındakiler / Ahmet Hamdi Tanpınar / Dergah Yayınları / 2010/ 9789759955779\n",
            "\n",
            "1- Eserleri Listele\n",
            "2- Eser Kaydet\n",
            "Lütfen Yapmak İstediğiniz İşlem Seçiniz (1-2):2\n",
            "Yeni eser kaydedin\n",
            "Eser adını girin: Dangalak\n",
            "Yazar adını girin: Muzaffer Oruçoğlu\n",
            "Yayın evi bilgisini girin: Sancı\n",
            "Basım yılını girin: 2021\n",
            "ISBN girin:  9786056945656\n",
            "Kayıt işleminiz başarıyla gerçekleşmiştir.\n"
          ],
          "name": "stdout"
        }
      ]
    }
  ]
}