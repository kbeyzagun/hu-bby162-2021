{
  "nbformat": 4,
  "nbformat_minor": 0,
  "metadata": {
    "colab": {
      "name": "Adres Uygulaması.ipynb",
      "provenance": [],
      "mount_file_id": "1F8T7y4X1OHKbKKjRkjJOzDs0TAKkaAWt",
      "authorship_tag": "ABX9TyPwmTBqtxeHhCeJBDEdYBup",
      "include_colab_link": true
    },
    "kernelspec": {
      "name": "python3",
      "display_name": "Python 3"
    },
    "language_info": {
      "name": "python"
    }
  },
  "cells": [
    {
      "cell_type": "markdown",
      "metadata": {
        "id": "view-in-github",
        "colab_type": "text"
      },
      "source": [
        "<a href=\"https://colab.research.google.com/github/kbeyzagun/hu-bby162-2021/blob/main/Adres_Uygulamas%C4%B1.ipynb\" target=\"_parent\"><img src=\"https://colab.research.google.com/assets/colab-badge.svg\" alt=\"Open In Colab\"/></a>"
      ]
    },
    {
      "cell_type": "code",
      "metadata": {
        "colab": {
          "base_uri": "https://localhost:8080/"
        },
        "id": "JhKReGWoFIPV",
        "outputId": "fd8ef74a-f490-48ff-df70-818ed6b0f654"
      },
      "source": [
        "#Google Drive Bağlantısı\n",
        "'''\n",
        "from google.colab import drive\n",
        "drive.mount('/gdrive')\n",
        "'''\n",
        "dosya = \"/content/drive/MyDrive/Colab Notebooks/hu bby162-2021/adres.txt\"\n",
        "\n",
        "f = open(dosya, \"r\") \n",
        "\n",
        "for line in f.readlines():\n",
        "    print(line)\n",
        "\n",
        "f.close()"
      ],
      "execution_count": 5,
      "outputs": [
        {
          "output_type": "stream",
          "text": [
            "Keziban Beyza Gün k.bgun012@gmail.com\n",
            "\n"
          ],
          "name": "stdout"
        }
      ]
    },
    {
      "cell_type": "code",
      "metadata": {
        "colab": {
          "base_uri": "https://localhost:8080/"
        },
        "id": "_JWude-eGDqY",
        "outputId": "39ad993a-10e7-483b-fb38-7deee6a5a768"
      },
      "source": [
        "dosya = \"/content/drive/MyDrive/Colab Notebooks/hu bby162-2021/adres.txt\"\n",
        "\n",
        "f = open(dosya, 'a') # Mevcut veriye ek veri yazılması için parametre: 'a'\n",
        "\n",
        "bilgi = input(\"Kaydedilecek bilgi: \")\n",
        "\n",
        "f.write(bilgi+\"\\n\") # Her yeni verinin bir alt satıra yazdırılması \"test\\n\"\n",
        "\n",
        "f.close()\n",
        "\n",
        "f = open(dosya, 'r') # Mevcut veriye ek veri yazılması için parametre: 'a'\n",
        "\n",
        "for line in f.readlines():\n",
        "    print(line)\n",
        "f.close()"
      ],
      "execution_count": 6,
      "outputs": [
        {
          "output_type": "stream",
          "text": [
            "Kaydedilecek bilgi: Keziban Beyza Gün k.bgun012@gmail.com\n",
            "Keziban Beyza Gün k.bgun012@gmail.com\n",
            "\n",
            "Keziban Beyza Gün k.bgun012@gmail.com\n",
            "\n"
          ],
          "name": "stdout"
        }
      ]
    }
  ]
}